{
 "cells": [
  {
   "cell_type": "code",
   "execution_count": null,
   "id": "4460dc61",
   "metadata": {},
   "outputs": [],
   "source": [
    "import pandas as pd\n",
    "import os\n",
    "from datetime import datetime\n"
   ]
  },
  {
   "cell_type": "code",
   "execution_count": null,
   "id": "0c715f81",
   "metadata": {},
   "outputs": [],
   "source": [
    "def read_files():\n",
    "    df1 = pd.read_csv('data/spy.csv')\n",
    "    df2 = pd.read_csv('data/spy_prev.csv')\n",
    "    # combine the two dataframes\n",
    "    df = pd.concat([df1, df2], ignore_index=True)\n",
    "    return df"
   ]
  },
  {
   "cell_type": "code",
   "execution_count": null,
   "id": "d344bba3",
   "metadata": {},
   "outputs": [],
   "source": [
    "\n",
    "def split_spy_data_by_year(df, output_dir=\"data\"):\n",
    "    \"\"\"\n",
    "    Split SPY CSV data by year and save each year to a separate file\n",
    "    \n",
    "    Args:\n",
    "        df (pd.DataFrame): DataFrame containing the SPY data\n",
    "        output_dir (str): Directory to save the split files\n",
    "    \"\"\"\n",
    "    \n",
    "    # Create output directory if it doesn't exist\n",
    "    os.makedirs(output_dir, exist_ok=True)\n",
    "        \n",
    "    # Convert date column to datetime\n",
    "    df['date'] = pd.to_datetime(df['date'])\n",
    "    \n",
    "    # Extract year from date\n",
    "    df['year'] = df['date'].dt.year\n",
    "    \n",
    "    # Get unique years\n",
    "    years = sorted(df['year'].unique())\n",
    "    print(f\"Found data for years: {years}\")\n",
    "    \n",
    "    # Split and save by year\n",
    "    for year in years:\n",
    "        year_data = df[df['year'] == year].copy()\n",
    "        \n",
    "        # Drop the temporary year column\n",
    "        year_data = year_data.drop('year', axis=1)\n",
    "\n",
    "        # distinct and sort year data by date and minute\n",
    "        year_data = year_data.sort_values(by=['date', 'minute']).drop_duplicates(subset=['date', 'minute'])\n",
    "        \n",
    "        # Create filename\n",
    "        output_file = os.path.join(output_dir, f\"spy_{year}.csv\")\n",
    "        \n",
    "        # Save to CSV\n",
    "        year_data.to_csv(output_file, index=False)\n",
    "        \n",
    "        print(f\"Saved {len(year_data):,} rows for year {year} to {output_file}\")\n",
    "    \n",
    "    print(\"\\nData splitting completed!\")\n",
    "    \n",
    "    # Summary statistics\n",
    "    print(f\"\\nSummary:\")\n",
    "    print(f\"Total rows processed: {len(df):,}\")\n",
    "    print(f\"Date range: {df['date'].min().date()} to {df['date'].max().date()}\")\n",
    "    print(f\"Number of years: {len(years)}\")\n",
    "\n",
    "if __name__ == \"__main__\":\n",
    "    df = read_files()\n",
    "    split_spy_data_by_year(df)\n"
   ]
  }
 ],
 "metadata": {
  "kernelspec": {
   "display_name": "base",
   "language": "python",
   "name": "python3"
  },
  "language_info": {
   "codemirror_mode": {
    "name": "ipython",
    "version": 3
   },
   "file_extension": ".py",
   "mimetype": "text/x-python",
   "name": "python",
   "nbconvert_exporter": "python",
   "pygments_lexer": "ipython3",
   "version": "3.13.5"
  }
 },
 "nbformat": 4,
 "nbformat_minor": 5
}

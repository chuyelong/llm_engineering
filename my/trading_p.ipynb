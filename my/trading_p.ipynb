{
 "cells": [
  {
   "cell_type": "code",
   "execution_count": null,
   "id": "7935d493",
   "metadata": {},
   "outputs": [],
   "source": [
    "import pandas as pd\n",
    "import matplotlib.pyplot as plt\n",
    "import SingleDayTradingStrategy as sdts"
   ]
  },
  {
   "cell_type": "code",
   "execution_count": null,
   "id": "690f147b",
   "metadata": {},
   "outputs": [],
   "source": [
    "def load_data(file_name):\n",
    "    df = pd.read_csv(file_name)\n",
    "    df.columns = [col.strip().lower() for col in df.columns]  # 标准化列名\n",
    "    df['date'] = pd.to_datetime(df['date'])\n",
    "    df['datetime'] = df['date'] + pd.to_timedelta(df['minute'], unit='m')\n",
    "    df.set_index('datetime', inplace=True)\n",
    "    df = df.sort_index()\n",
    "    return df"
   ]
  },
  {
   "cell_type": "code",
   "execution_count": null,
   "id": "21293ee1",
   "metadata": {},
   "outputs": [],
   "source": [
    "def plot_result(equity_df, daily_summary):\n",
    "    fig, axes = plt.subplots(2, 1, figsize=(12, 8), sharex=False)\n",
    "    equity_df['equity'].plot(ax=axes[0], title='Equity Curve')\n",
    "    axes[0].set_ylabel('Equity ($)')\n",
    "    daily_summary['daily_pnl'].plot(kind='bar', ax=axes[1], title='Daily PnL', color='orange')\n",
    "    axes[1].set_ylabel('PnL ($)')\n",
    "    plt.tight_layout()\n",
    "    plt.show()"
   ]
  },
  {
   "cell_type": "code",
   "execution_count": null,
   "id": "5ae30e45",
   "metadata": {},
   "outputs": [],
   "source": [
    "def run_intraday_highlow_strategy(df, startDate, days=7, initial_cash=100_000, window=5, plot=True):\n",
    "\n",
    "    grouped = df.groupby('date')\n",
    "    cash = initial_cash\n",
    "\n",
    "    all_trades = []\n",
    "    all_exception_bars = []\n",
    "    equity_curve = []\n",
    "\n",
    "    count = 0\n",
    "    for date, day in grouped:\n",
    "        if startDate and date < startDate:\n",
    "            continue\n",
    "        \n",
    "        count += 1\n",
    "        if count > days:\n",
    "            break\n",
    "        trades, day_equity_curve, cash, exception_bars = sdts.SingleDayTradingStrategy(date, cash, window).run_single_day(day.copy())\n",
    "        all_trades.extend(trades)\n",
    "        equity_curve.extend(day_equity_curve)\n",
    "        all_exception_bars.extend(exception_bars)\n",
    "\n",
    "    if len(all_trades) == 0:\n",
    "        print(\"No trades executed in the given period.\")\n",
    "        return pd.DataFrame(), pd.DataFrame(), pd.DataFrame()\n",
    "\n",
    "    trades_df = pd.DataFrame(all_trades)\n",
    "    equity_df = pd.DataFrame(equity_curve).set_index('time')\n",
    "    exception_bars_df = pd.DataFrame(all_exception_bars)\n",
    "\n",
    "    daily_summary = trades_df.groupby('date').agg(\n",
    "        daily_pnl=('pnl', 'sum'),\n",
    "        trades=('pnl', 'count'),\n",
    "        win_rate=('pnl', lambda x: (x > 0).mean())\n",
    "    )\n",
    "\n",
    "    if plot:\n",
    "        plot_result(equity_df, daily_summary)\n",
    "\n",
    "    return trades_df, equity_df, daily_summary, exception_bars_df"
   ]
  },
  {
   "cell_type": "code",
   "execution_count": null,
   "id": "5a526d23",
   "metadata": {},
   "outputs": [],
   "source": [
    "# === 加载数据 ===\n",
    "year = 2025\n",
    "df = load_data(f\"data/spy_{year}.csv\")\n",
    "startDate = pd.to_datetime(f\"{year}-01-01\")  # Convert to date object\n",
    "days = 500\n",
    "initial_cash = 1000\n",
    "window = 5\n",
    "plot = False\n",
    "trades_df, equity_df, daily_summary, exception_bars = run_intraday_highlow_strategy(df, startDate=startDate, days=days, initial_cash=initial_cash, window=window, plot=plot)"
   ]
  },
  {
   "cell_type": "code",
   "execution_count": null,
   "id": "87b4a016",
   "metadata": {},
   "outputs": [],
   "source": [
    "print(f\"Total trades executed: {trades_df['date'].count()} for {daily_summary['daily_pnl'].count()} days starting from {startDate.date()}\")\n",
    "\n",
    "open_price = trades_df.iloc[0]['entry_price']\n",
    "close_price = trades_df.iloc[-1]['exit_price']\n",
    "market_win_rate = (close_price / open_price if open_price != 0 else 0) - 1\n",
    "print(f\"Open Price: {open_price:.2f}, Close Price: {close_price:.2f}\")\n",
    "print(f\"Market Win Rate: {market_win_rate:.2%}\")\n",
    "\n",
    "open_equity = equity_df.iloc[0]['equity']\n",
    "close_equity = equity_df.iloc[-1]['equity']\n",
    "strategy_win_rate = (close_equity - open_equity) / open_price\n",
    "print(f\"Open Equity: {open_equity:.2f}, Close Equity: {close_equity:.2f}\")\n",
    "print(f\"Strategy Win Rate: {strategy_win_rate:.2%}\")\n",
    "\n",
    "# print(\"equity_df:\")\n",
    "# print(equity_df.head())\n",
    "# print(equity_df.tail())\n",
    "print(\"\\ntrades_df:\")\n",
    "print(trades_df.head())\n",
    "print(trades_df.tail())\n",
    "print(\"\\ndaily_summary:\")\n",
    "print(daily_summary.head())\n",
    "print(daily_summary.tail())\n",
    "print(\"\\nException Bars:\")\n",
    "print(exception_bars.head())"
   ]
  }
 ],
 "metadata": {
  "kernelspec": {
   "display_name": "base",
   "language": "python",
   "name": "python3"
  },
  "language_info": {
   "codemirror_mode": {
    "name": "ipython",
    "version": 3
   },
   "file_extension": ".py",
   "mimetype": "text/x-python",
   "name": "python",
   "nbconvert_exporter": "python",
   "pygments_lexer": "ipython3",
   "version": "3.13.5"
  }
 },
 "nbformat": 4,
 "nbformat_minor": 5
}

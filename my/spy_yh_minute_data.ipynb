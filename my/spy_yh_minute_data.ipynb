{
 "cells": [
  {
   "cell_type": "markdown",
   "id": "0c326fa7",
   "metadata": {},
   "source": [
    "# SPY Minute Data Downloader\n",
    "\n",
    "This notebook downloads SPY minute-level data from Yahoo Finance and saves it to a CSV file in the specified format:\n",
    "- date: Trading date (YYYY-MM-DD)\n",
    "- minute: Minutes from market open (391 = 9:31 AM, 392 = 9:32 AM, etc.)\n",
    "- open, low, high, close: OHLC prices\n",
    "- volume: Trading volume"
   ]
  },
  {
   "cell_type": "markdown",
   "id": "56bf617f",
   "metadata": {},
   "source": [
    "## 1. Import Required Libraries\n",
    "\n",
    "Import necessary libraries including yfinance, pandas, and datetime for data manipulation and Yahoo Finance API access."
   ]
  },
  {
   "cell_type": "code",
   "execution_count": null,
   "id": "f49c0872",
   "metadata": {},
   "outputs": [],
   "source": [
    "import yfinance as yf\n",
    "import pandas as pd\n",
    "from datetime import datetime, time\n",
    "import os\n",
    "\n",
    "print(\"Libraries imported successfully!\")"
   ]
  },
  {
   "cell_type": "markdown",
   "id": "f3783123",
   "metadata": {},
   "source": [
    "## 2. Download SPY Data from Yahoo Finance\n",
    "\n",
    "Use yfinance to download SPY minute-level data for a specified date range with proper interval settings."
   ]
  },
  {
   "cell_type": "code",
   "execution_count": null,
   "id": "63fceee4",
   "metadata": {},
   "outputs": [],
   "source": [
    "from datetime import datetime, timedelta\n",
    "\n",
    "# Define the ticker symbol\n",
    "ticker = \"SPY\"\n",
    "\n",
    "days = 6\n",
    "start_date = (datetime.now() - timedelta(days=days)).strftime(\"%Y-%m-%d\")\n",
    "end_date = datetime.now().strftime(\"%Y-%m-%d\")\n",
    "\n",
    "# Download minute data from Yahoo Finance\n",
    "print(f\"Downloading {ticker} minute data from {start_date} to {end_date}...\")\n",
    "spy_data = yf.download(ticker, start=start_date, end=end_date, interval=\"1m\")\n"
   ]
  },
  {
   "cell_type": "code",
   "execution_count": null,
   "id": "98d6687c",
   "metadata": {},
   "outputs": [],
   "source": [
    "\n",
    "print(f\"Downloaded {len(spy_data)} rows of minute data\")\n",
    "print(f\"Date range: {spy_data.index[0]} to {spy_data.index[-1]}\")\n",
    "spy_data.head()\n"
   ]
  },
  {
   "cell_type": "markdown",
   "id": "66782e7b",
   "metadata": {},
   "source": [
    "## 3. Process and Format the Data\n",
    "\n",
    "Clean and format the downloaded data, ensuring proper column names and data types."
   ]
  },
  {
   "cell_type": "code",
   "execution_count": null,
   "id": "c0c48067",
   "metadata": {},
   "outputs": [],
   "source": [
    "# Reset index to make datetime a column\n",
    "df = spy_data.reset_index()\n",
    "\n",
    "# Drop the Adj Close column as it's not needed\n",
    "# df = df.drop('adj_close', axis=1)\n",
    "\n",
    "# Rename columns to match the desired format (lowercase)\n",
    "df.columns = ['datetime', 'close', 'high', 'low', 'open', 'volume']\n",
    "\n",
    "# datetime is utc, convert to pst\n",
    "# df['datetime'] = df['datetime'].dt.tz_convert('America/Los_Angeles')\n",
    "\n",
    "# Round the price columns to 2 decimal places\n",
    "price_columns = ['open', 'high', 'low', 'close']\n",
    "df[price_columns] = df[price_columns].round(2)\n",
    "\n",
    "print(f\"Processed {len(df)} rows\")\n",
    "print(\"Sample of processed data:\")\n",
    "df.head()"
   ]
  },
  {
   "cell_type": "markdown",
   "id": "1e1cef54",
   "metadata": {},
   "source": [
    "## 4. Add Minute Column Based on Time\n",
    "\n",
    "Extract date and create a minute column that represents minutes from market open (e.g., 391 for 9:31 AM)."
   ]
  },
  {
   "cell_type": "code",
   "execution_count": null,
   "id": "65bb4abd",
   "metadata": {},
   "outputs": [],
   "source": [
    "# Extract date and time components\n",
    "df['date'] = df['datetime'].dt.date\n",
    "df['time'] = df['datetime'].dt.time\n",
    "\n",
    "# Create minute column (minutes from market open)\n",
    "# Market opens at 9:30 AM, so 9:31 AM = minute 391, 9:32 AM = minute 392, etc.\n",
    "# Calculate minutes from midnight, then subtract market open minutes (9:30 AM = 570 minutes)\n",
    "market_open_minutes = 9 * 60 + 30  # 9:30 AM in minutes from midnight (570)\n",
    "\n",
    "df['minute'] = (df['datetime'].dt.hour * 60 + df['datetime'].dt.minute) - market_open_minutes\n",
    "\n",
    "# Filter only regular trading hours (390-780, which is 9:30 AM to 4:00 PM)\n",
    "df = df[(df['minute'] >= 390) & (df['minute'] <= 780)]\n",
    "\n",
    "# Reorder columns to match desired format\n",
    "df = df[['date', 'minute', 'open', 'low', 'high', 'close', 'volume']]\n",
    "\n",
    "print(f\"Filtered to {len(df)} rows of regular trading hours data\")\n",
    "print(\"Sample with minute column:\")\n",
    "df.head(10)"
   ]
  },
  {
   "cell_type": "markdown",
   "id": "16cd1eed",
   "metadata": {},
   "source": [
    "## 5. Write Data to CSV File\n",
    "\n",
    "Export the formatted DataFrame to a CSV file with the specified column structure: date,minute,open,low,high,close,volume."
   ]
  },
  {
   "cell_type": "code",
   "execution_count": null,
   "id": "aa5bf693",
   "metadata": {},
   "outputs": [],
   "source": [
    "# Create data directory if it doesn't exist\n",
    "data_dir = \"data\"\n",
    "if not os.path.exists(data_dir):\n",
    "    os.makedirs(data_dir)\n",
    "\n",
    "# Define output filename with date range\n",
    "output_filename = f\"{data_dir}/spy_minute.csv\"\n",
    "\n",
    "# Fix column name (volumn -> volume)\n",
    "df = df.rename(columns={'volume': 'volumn'})\n",
    "\n",
    "# Write to CSV file\n",
    "df.to_csv(output_filename, index=False)\n",
    "\n",
    "print(f\"Data successfully written to: {output_filename}\")\n",
    "print(f\"Total rows written: {len(df)}\")\n",
    "print(f\"File size: {os.path.getsize(output_filename) / 1024:.2f} KB\")"
   ]
  },
  {
   "cell_type": "markdown",
   "id": "4c70e993",
   "metadata": {},
   "source": [
    "## 6. Verify the Output\n",
    "\n",
    "Read back the CSV file and display sample rows to confirm the data format matches the required structure."
   ]
  },
  {
   "cell_type": "code",
   "execution_count": null,
   "id": "28d49007",
   "metadata": {},
   "outputs": [],
   "source": [
    "# Read the CSV file back to verify format\n",
    "verification_df = pd.read_csv(output_filename)\n",
    "\n",
    "print(\"CSV file verification:\")\n",
    "print(f\"Shape: {verification_df.shape}\")\n",
    "print(f\"Columns: {list(verification_df.columns)}\")\n",
    "print(\"\\nFirst 10 rows:\")\n",
    "print(verification_df.head(10))\n",
    "\n",
    "print(f\"\\nSample data format matches requirement:\")\n",
    "print(\"date,minute,open,low,high,close,volumn\")\n",
    "for i in range(min(3, len(verification_df))):\n",
    "    row = verification_df.iloc[i]\n",
    "    print(f\"{row['date']},{row['minute']},{row['open']},{row['low']},{row['high']},{row['close']},{row['volumn']}\")\n",
    "\n",
    "print(f\"\\nData range:\")\n",
    "print(f\"Date range: {verification_df['date'].min()} to {verification_df['date'].max()}\")\n",
    "print(f\"Minute range: {verification_df['minute'].min()} to {verification_df['minute'].max()}\")"
   ]
  }
 ],
 "metadata": {
  "kernelspec": {
   "display_name": "base",
   "language": "python",
   "name": "python3"
  },
  "language_info": {
   "codemirror_mode": {
    "name": "ipython",
    "version": 3
   },
   "file_extension": ".py",
   "mimetype": "text/x-python",
   "name": "python",
   "nbconvert_exporter": "python",
   "pygments_lexer": "ipython3",
   "version": "3.13.5"
  }
 },
 "nbformat": 4,
 "nbformat_minor": 5
}

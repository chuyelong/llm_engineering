{
 "cells": [
  {
   "cell_type": "markdown",
   "id": "4d9e551e",
   "metadata": {},
   "source": [
    "# High/Low Breakout Trading Strategy with VectorBT\n",
    "\n",
    "This notebook implements a trading strategy based on price breakouts:\n",
    "- **Buy Signal**: Price exceeds the highest high of the last 5 minutes\n",
    "- **Sell Signal**: Price falls below the lowest low of the last 5 minutes  \n",
    "- **Position Management**: Close all positions at the end of each trading day\n",
    "\n",
    "We'll use vectorbt for efficient backtesting and analysis."
   ]
  },
  {
   "cell_type": "code",
   "execution_count": 1,
   "id": "c70f9c04",
   "metadata": {},
   "outputs": [
    {
     "name": "stdout",
     "output_type": "stream",
     "text": [
      "Libraries imported successfully!\n",
      "VectorBT version: 0.28.0\n"
     ]
    }
   ],
   "source": [
    "# Import required libraries\n",
    "import pandas as pd\n",
    "import numpy as np\n",
    "import vectorbt as vbt\n",
    "import matplotlib.pyplot as plt\n",
    "from datetime import datetime, time\n",
    "import warnings\n",
    "warnings.filterwarnings('ignore')\n",
    "\n",
    "# Set display options\n",
    "pd.set_option('display.max_columns', None)\n",
    "pd.set_option('display.width', None)\n",
    "\n",
    "print(\"Libraries imported successfully!\")\n",
    "print(f\"VectorBT version: {vbt.__version__}\")"
   ]
  },
  {
   "cell_type": "markdown",
   "id": "389c6677",
   "metadata": {},
   "source": [
    "## Data Preparation\n",
    "\n",
    "First, let's create sample data based on the format provided in the requirements."
   ]
  },
  {
   "cell_type": "code",
   "execution_count": 19,
   "id": "b19b1ecd",
   "metadata": {},
   "outputs": [
    {
     "name": "stdout",
     "output_type": "stream",
     "text": [
      "Sample data loaded:\n",
      "         Date   Minuite    Open       Low    High   Close     Volume\n",
      "0  2025-01-02       390  589.39  588.4600  589.45  589.45  1128698.0\n",
      "1  2025-01-02       391  589.45  589.0400  589.60  589.57   151034.0\n",
      "2  2025-01-02       392  589.49  589.0319  589.65  589.09    96284.0\n",
      "3  2025-01-02       393  589.09  587.9800  589.18  588.01    98628.0\n",
      "4  2025-01-02       394  587.99  587.8100  588.52  587.82    98190.0\n",
      "\n",
      "Data shape: (52626, 7)\n"
     ]
    }
   ],
   "source": [
    "# Create sample data based on the provided format\n",
    "sample_data = \"\"\"\n",
    "Date,Minute,Open,Low,High,Close,Volume\n",
    "2025-01-02,390,589.3900,588.4600,589.4500,589.4500,1128698.00\n",
    "2025-01-02,391,589.4500,589.0400,589.6000,589.5700,151034.00\n",
    "2025-01-02,392,589.4900,589.0319,589.6500,589.0900,96284.00\n",
    "2025-01-02,393,589.0900,587.9800,589.1800,588.0100,98628.00\n",
    "2025-01-02,394,587.9900,587.8100,588.5200,587.8200,98190.00\n",
    "2025-01-02,395,587.8400,586.9100,587.9100,586.9100,127238.00\n",
    "2025-01-02,396,586.9100,586.9100,587.5500,587.0500,163237.00\n",
    "2025-01-02,397,587.0300,586.7100,587.3400,587.2210,185067.00\n",
    "2025-01-02,398,587.2399,586.8900,587.5000,586.9300,146477.00\n",
    "2025-01-02,399,586.9300,586.2300,587.0000,586.2500,135366.00\n",
    "\"\"\"\n",
    "\n",
    "# If you have actual data file, replace this with:\n",
    "df = pd.read_csv('./../spy_minute.csv')\n",
    "\n",
    "# from io import StringIO\n",
    "# df = pd.read_csv(StringIO(sample_data.strip()))\n",
    "\n",
    "print(\"Sample data loaded:\")\n",
    "print(df.head())\n",
    "print(f\"\\nData shape: {df.shape}\")"
   ]
  },
  {
   "cell_type": "code",
   "execution_count": 5,
   "id": "25e6bee0",
   "metadata": {},
   "outputs": [
    {
     "name": "stdout",
     "output_type": "stream",
     "text": [
      "Generated synthetic data with 2730 rows\n",
      "Date range: 2025-01-02 to 2025-01-10\n",
      "\n",
      "First few rows:\n",
      "         Date  Minute      Open       Low      High     Close     Volume\n",
      "0  2025-01-02     390  589.9934  589.7300  590.1877  589.9243  128221.55\n",
      "1  2025-01-02     391  589.9243  589.7370  589.9945  589.8072  131874.55\n",
      "2  2025-01-02     392  589.8072  589.6664  590.3318  590.1909   78533.46\n",
      "3  2025-01-02     393  590.1909  589.8195  590.3307  589.9592   67574.17\n",
      "4  2025-01-02     394  589.9592  588.4851  590.4767  589.0026   45200.17\n",
      "5  2025-01-02     395  589.0026  588.4019  589.0969  588.4962   38024.58\n",
      "6  2025-01-02     396  588.4962  587.3503  588.9359  587.7900   53482.61\n",
      "7  2025-01-02     397  587.7900  587.3626  588.2512  587.8238   45606.64\n",
      "8  2025-01-02     398  587.8238  587.4785  588.2245  587.8792   72247.21\n",
      "9  2025-01-02     399  587.8792  587.4914  587.9668  587.5789   44318.02\n"
     ]
    }
   ],
   "source": [
    "# For demonstration, let's generate more realistic historical data\n",
    "# This simulates minute-by-minute data over multiple days\n",
    "\n",
    "np.random.seed(42)  # For reproducible results\n",
    "\n",
    "# Generate dates for multiple trading days (assuming 390 minutes per trading day)\n",
    "start_date = pd.Timestamp('2025-01-02')\n",
    "end_date = pd.Timestamp('2025-01-10')\n",
    "trading_days = pd.bdate_range(start_date, end_date)\n",
    "\n",
    "# Minutes from market open (assuming 9:30 AM start, minute 390 = 9:30 AM)\n",
    "minutes_per_day = range(390, 780)  # 390 minutes = 6.5 hours trading day\n",
    "\n",
    "# Generate synthetic OHLC data\n",
    "data_list = []\n",
    "base_price = 589.0\n",
    "current_price = base_price\n",
    "\n",
    "for date in trading_days:\n",
    "    # Reset price with some overnight gap\n",
    "    overnight_gap = np.random.normal(0, 2)  # Small overnight gap\n",
    "    current_price += overnight_gap\n",
    "    \n",
    "    for minute in minutes_per_day:\n",
    "        # Generate minute-level price movement\n",
    "        price_change = np.random.normal(0, 0.5)  # Small random walk\n",
    "        \n",
    "        open_price = current_price\n",
    "        close_price = current_price + price_change\n",
    "        \n",
    "        # Generate high and low based on volatility\n",
    "        volatility = abs(np.random.normal(0, 0.3))\n",
    "        high_price = max(open_price, close_price) + volatility\n",
    "        low_price = min(open_price, close_price) - volatility\n",
    "        \n",
    "        # Generate volume\n",
    "        volume = np.random.lognormal(11, 0.5)  # Log-normal distribution for volume\n",
    "        \n",
    "        data_list.append({\n",
    "            'Date': date.strftime('%Y-%m-%d'),\n",
    "            'Minute': minute,\n",
    "            'Open': round(open_price, 4),\n",
    "            'Low': round(low_price, 4),\n",
    "            'High': round(high_price, 4),\n",
    "            'Close': round(close_price, 4),\n",
    "            'Volume': round(volume, 2)\n",
    "        })\n",
    "        \n",
    "        current_price = close_price\n",
    "\n",
    "# Create DataFrame\n",
    "df = pd.DataFrame(data_list)\n",
    "\n",
    "print(f\"Generated synthetic data with {len(df)} rows\")\n",
    "print(f\"Date range: {df['Date'].min()} to {df['Date'].max()}\")\n",
    "print(\"\\nFirst few rows:\")\n",
    "print(df.head(10))"
   ]
  },
  {
   "cell_type": "code",
   "execution_count": 6,
   "id": "2456d7c0",
   "metadata": {},
   "outputs": [
    {
     "name": "stdout",
     "output_type": "stream",
     "text": [
      "Data with DateTime index:\n",
      "                           Date  Minute      Open       Low      High  \\\n",
      "DateTime                                                                \n",
      "2025-01-02 00:00:00  2025-01-02     390  589.9934  589.7300  590.1877   \n",
      "2025-01-02 00:01:00  2025-01-02     391  589.9243  589.7370  589.9945   \n",
      "2025-01-02 00:02:00  2025-01-02     392  589.8072  589.6664  590.3318   \n",
      "2025-01-02 00:03:00  2025-01-02     393  590.1909  589.8195  590.3307   \n",
      "2025-01-02 00:04:00  2025-01-02     394  589.9592  588.4851  590.4767   \n",
      "\n",
      "                        Close     Volume  \n",
      "DateTime                                  \n",
      "2025-01-02 00:00:00  589.9243  128221.55  \n",
      "2025-01-02 00:01:00  589.8072  131874.55  \n",
      "2025-01-02 00:02:00  590.1909   78533.46  \n",
      "2025-01-02 00:03:00  589.9592   67574.17  \n",
      "2025-01-02 00:04:00  589.0026   45200.17  \n",
      "\n",
      "Index info: 2025-01-02 00:00:00 to 2025-01-10 06:29:00\n"
     ]
    }
   ],
   "source": [
    "# Create proper datetime index\n",
    "df['DateTime'] = pd.to_datetime(df['Date']) + pd.to_timedelta((df['Minute'] - 390), unit='m')\n",
    "df.set_index('DateTime', inplace=True)\n",
    "\n",
    "# Sort by datetime to ensure proper order\n",
    "df.sort_index(inplace=True)\n",
    "\n",
    "print(\"Data with DateTime index:\")\n",
    "print(df.head())\n",
    "print(f\"\\nIndex info: {df.index.min()} to {df.index.max()}\")"
   ]
  },
  {
   "cell_type": "markdown",
   "id": "43a0d125",
   "metadata": {},
   "source": [
    "## Strategy Implementation\n",
    "\n",
    "Now let's implement the high/low breakout strategy:\n",
    "1. Calculate rolling 5-minute high and low\n",
    "2. Generate buy signals when price breaks above 5-minute high\n",
    "3. Generate sell signals when price breaks below 5-minute low\n",
    "4. Close positions at end of day"
   ]
  },
  {
   "cell_type": "code",
   "execution_count": 7,
   "id": "24d2f044",
   "metadata": {},
   "outputs": [
    {
     "name": "stdout",
     "output_type": "stream",
     "text": [
      "Rolling high/low calculations completed:\n",
      "                         High       Low     Close  Rolling_High_5  \\\n",
      "DateTime                                                            \n",
      "2025-01-02 00:00:00  590.1877  589.7300  589.9243             NaN   \n",
      "2025-01-02 00:01:00  589.9945  589.7370  589.8072             NaN   \n",
      "2025-01-02 00:02:00  590.3318  589.6664  590.1909             NaN   \n",
      "2025-01-02 00:03:00  590.3307  589.8195  589.9592             NaN   \n",
      "2025-01-02 00:04:00  590.4767  588.4851  589.0026        590.4767   \n",
      "2025-01-02 00:05:00  589.0969  588.4019  588.4962        590.4767   \n",
      "2025-01-02 00:06:00  588.9359  587.3503  587.7900        590.4767   \n",
      "2025-01-02 00:07:00  588.2512  587.3626  587.8238        590.4767   \n",
      "2025-01-02 00:08:00  588.2245  587.4785  587.8792        590.4767   \n",
      "2025-01-02 00:09:00  587.9668  587.4914  587.5789        589.0969   \n",
      "\n",
      "                     Rolling_Low_5  Prev_Rolling_High_5  Prev_Rolling_Low_5  \n",
      "DateTime                                                                     \n",
      "2025-01-02 00:00:00            NaN                  NaN                 NaN  \n",
      "2025-01-02 00:01:00            NaN                  NaN                 NaN  \n",
      "2025-01-02 00:02:00            NaN                  NaN                 NaN  \n",
      "2025-01-02 00:03:00            NaN                  NaN                 NaN  \n",
      "2025-01-02 00:04:00       588.4851                  NaN                 NaN  \n",
      "2025-01-02 00:05:00       588.4019             590.4767            588.4851  \n",
      "2025-01-02 00:06:00       587.3503             590.4767            588.4019  \n",
      "2025-01-02 00:07:00       587.3503             590.4767            587.3503  \n",
      "2025-01-02 00:08:00       587.3503             590.4767            587.3503  \n",
      "2025-01-02 00:09:00       587.3503             590.4767            587.3503  \n"
     ]
    }
   ],
   "source": [
    "# Calculate rolling 5-minute high and low\n",
    "lookback_periods = 5\n",
    "\n",
    "# Rolling maximum of High prices over last 5 periods\n",
    "df['Rolling_High_5'] = df['High'].rolling(window=lookback_periods, min_periods=lookback_periods).max()\n",
    "\n",
    "# Rolling minimum of Low prices over last 5 periods  \n",
    "df['Rolling_Low_5'] = df['Low'].rolling(window=lookback_periods, min_periods=lookback_periods).min()\n",
    "\n",
    "# Shift by 1 to avoid look-ahead bias (use previous 5-minute high/low)\n",
    "df['Prev_Rolling_High_5'] = df['Rolling_High_5'].shift(1)\n",
    "df['Prev_Rolling_Low_5'] = df['Rolling_Low_5'].shift(1)\n",
    "\n",
    "print(\"Rolling high/low calculations completed:\")\n",
    "print(df[['High', 'Low', 'Close', 'Rolling_High_5', 'Rolling_Low_5', 'Prev_Rolling_High_5', 'Prev_Rolling_Low_5']].head(10))"
   ]
  },
  {
   "cell_type": "code",
   "execution_count": 8,
   "id": "3b209930",
   "metadata": {},
   "outputs": [
    {
     "name": "stdout",
     "output_type": "stream",
     "text": [
      "Trading signals generated:\n",
      "Total buy signals: 655\n",
      "Total sell signals: 727\n",
      "End of day markers: 7\n",
      "\n",
      "First 10 trading signals:\n",
      "                           Date  Minute      High       Low     Close  \\\n",
      "DateTime                                                                \n",
      "2025-01-02 00:05:00  2025-01-02     395  589.0969  588.4019  588.4962   \n",
      "2025-01-02 00:06:00  2025-01-02     396  588.9359  587.3503  587.7900   \n",
      "2025-01-02 00:11:00  2025-01-02     401  589.2826  588.1388  588.9163   \n",
      "2025-01-02 00:12:00  2025-01-02     402  589.3148  587.5380  587.9365   \n",
      "2025-01-02 00:16:00  2025-01-02     406  588.0221  586.9461  587.0433   \n",
      "2025-01-02 00:17:00  2025-01-02     407  587.2268  586.5214  586.7049   \n",
      "2025-01-02 00:18:00  2025-01-02     408  587.4223  586.4531  587.1705   \n",
      "2025-01-02 00:21:00  2025-01-02     411  588.0565  586.8365  587.6496   \n",
      "2025-01-02 00:22:00  2025-01-02     412  588.2598  587.5411  588.1514   \n",
      "2025-01-02 00:23:00  2025-01-02     413  588.7935  587.6899  588.3321   \n",
      "\n",
      "                     Prev_Rolling_High_5  Prev_Rolling_Low_5  Buy_Signal  \\\n",
      "DateTime                                                                   \n",
      "2025-01-02 00:05:00             590.4767            588.4851       False   \n",
      "2025-01-02 00:06:00             590.4767            588.4019       False   \n",
      "2025-01-02 00:11:00             588.9359            587.3503        True   \n",
      "2025-01-02 00:12:00             589.2826            587.3626        True   \n",
      "2025-01-02 00:16:00             589.3148            587.5380       False   \n",
      "2025-01-02 00:17:00             589.3148            586.9461       False   \n",
      "2025-01-02 00:18:00             588.7493            586.5214       False   \n",
      "2025-01-02 00:21:00             588.0221            586.4531        True   \n",
      "2025-01-02 00:22:00             588.0565            586.4531        True   \n",
      "2025-01-02 00:23:00             588.2598            586.4531        True   \n",
      "\n",
      "                     Sell_Signal  \n",
      "DateTime                          \n",
      "2025-01-02 00:05:00         True  \n",
      "2025-01-02 00:06:00         True  \n",
      "2025-01-02 00:11:00        False  \n",
      "2025-01-02 00:12:00        False  \n",
      "2025-01-02 00:16:00         True  \n",
      "2025-01-02 00:17:00         True  \n",
      "2025-01-02 00:18:00         True  \n",
      "2025-01-02 00:21:00        False  \n",
      "2025-01-02 00:22:00        False  \n",
      "2025-01-02 00:23:00        False  \n"
     ]
    }
   ],
   "source": [
    "# Generate trading signals\n",
    "\n",
    "# Buy signal: Current high > Previous 5-minute rolling high\n",
    "df['Buy_Signal'] = df['High'] > df['Prev_Rolling_High_5']\n",
    "\n",
    "# Sell signal: Current low < Previous 5-minute rolling low\n",
    "df['Sell_Signal'] = df['Low'] < df['Prev_Rolling_Low_5']\n",
    "\n",
    "# Create end-of-day marker (assuming market closes at minute 779)\n",
    "df['End_Of_Day'] = df['Minute'] == 779\n",
    "\n",
    "print(\"Trading signals generated:\")\n",
    "print(f\"Total buy signals: {df['Buy_Signal'].sum()}\")\n",
    "print(f\"Total sell signals: {df['Sell_Signal'].sum()}\")\n",
    "print(f\"End of day markers: {df['End_Of_Day'].sum()}\")\n",
    "\n",
    "# Show some examples of signals\n",
    "signal_examples = df[df['Buy_Signal'] | df['Sell_Signal']].head(10)\n",
    "print(\"\\nFirst 10 trading signals:\")\n",
    "print(signal_examples[['Date', 'Minute', 'High', 'Low', 'Close', 'Prev_Rolling_High_5', 'Prev_Rolling_Low_5', 'Buy_Signal', 'Sell_Signal']])"
   ]
  },
  {
   "cell_type": "markdown",
   "id": "62d4e0b9",
   "metadata": {},
   "source": [
    "## VectorBT Portfolio Simulation\n",
    "\n",
    "Now let's use VectorBT to simulate the trading strategy and analyze performance."
   ]
  },
  {
   "cell_type": "code",
   "execution_count": 9,
   "id": "a0852d35",
   "metadata": {},
   "outputs": [
    {
     "name": "stdout",
     "output_type": "stream",
     "text": [
      "Entries (buy signals): 655\n",
      "Exits (sell signals + EOD): 732\n"
     ]
    }
   ],
   "source": [
    "# Prepare data for VectorBT\n",
    "close_prices = df['Close']\n",
    "buy_signals = df['Buy_Signal']\n",
    "sell_signals = df['Sell_Signal']\n",
    "end_of_day_signals = df['End_Of_Day']\n",
    "\n",
    "# Create entries and exits for VectorBT\n",
    "# Entry: Buy signal\n",
    "entries = buy_signals\n",
    "\n",
    "# Exit: Sell signal OR end of day\n",
    "exits = sell_signals | end_of_day_signals\n",
    "\n",
    "print(f\"Entries (buy signals): {entries.sum()}\")\n",
    "print(f\"Exits (sell signals + EOD): {exits.sum()}\")\n",
    "\n",
    "# Ensure we have some signals to work with\n",
    "if entries.sum() == 0:\n",
    "    print(\"Warning: No buy signals generated. Adjusting strategy parameters...\")\n",
    "    # Create more aggressive signals for demonstration\n",
    "    df['Buy_Signal_Adjusted'] = df['Close'] > df['Close'].rolling(3).mean()\n",
    "    df['Sell_Signal_Adjusted'] = df['Close'] < df['Close'].rolling(3).mean()\n",
    "    entries = df['Buy_Signal_Adjusted']\n",
    "    exits = df['Sell_Signal_Adjusted'] | end_of_day_signals\n",
    "    print(f\"Adjusted entries: {entries.sum()}\")\n",
    "    print(f\"Adjusted exits: {exits.sum()}\")"
   ]
  },
  {
   "cell_type": "code",
   "execution_count": 10,
   "id": "7e3c5d48",
   "metadata": {},
   "outputs": [
    {
     "name": "stdout",
     "output_type": "stream",
     "text": [
      "Portfolio created successfully!\n",
      "Total trades: 150\n"
     ]
    }
   ],
   "source": [
    "# Create VectorBT portfolio\n",
    "portfolio = vbt.Portfolio.from_signals(\n",
    "    close=close_prices,\n",
    "    entries=entries,\n",
    "    exits=exits,\n",
    "    init_cash=100000,  # Starting with $100,000\n",
    "    fees=0.001,        # 0.1% transaction fees\n",
    "    freq='1min'        # Minute-level data\n",
    ")\n",
    "\n",
    "print(\"Portfolio created successfully!\")\n",
    "print(f\"Total trades: {portfolio.trades.count()}\")"
   ]
  },
  {
   "cell_type": "markdown",
   "id": "142f3e9d",
   "metadata": {},
   "source": [
    "## Performance Analysis"
   ]
  },
  {
   "cell_type": "code",
   "execution_count": 11,
   "id": "5b1f3cd8",
   "metadata": {},
   "outputs": [
    {
     "name": "stdout",
     "output_type": "stream",
     "text": [
      "=== Portfolio Performance Statistics ===\n",
      "Start                               2025-01-02 00:00:00\n",
      "End                                 2025-01-10 06:29:00\n",
      "Period                                  1 days 21:30:00\n",
      "Start Value                                    100000.0\n",
      "End Value                                  69025.452354\n",
      "Total Return [%]                             -30.974548\n",
      "Benchmark Return [%]                         -11.133412\n",
      "Max Gross Exposure [%]                            100.0\n",
      "Total Fees Paid                            25168.044916\n",
      "Max Drawdown [%]                              30.974548\n",
      "Max Drawdown Duration                   1 days 21:19:00\n",
      "Total Trades                                        150\n",
      "Total Closed Trades                                 150\n",
      "Total Open Trades                                     0\n",
      "Open Trade PnL                                      0.0\n",
      "Win Rate [%]                                  13.333333\n",
      "Best Trade [%]                                 1.320673\n",
      "Worst Trade [%]                               -0.979584\n",
      "Avg Winning Trade [%]                          0.291091\n",
      "Avg Losing Trade [%]                          -0.329403\n",
      "Avg Winning Trade Duration              0 days 00:21:45\n",
      "Avg Losing Trade Duration     0 days 00:06:32.769230769\n",
      "Profit Factor                                  0.132647\n",
      "Expectancy                                  -206.496984\n",
      "Sharpe Ratio                                -128.830015\n",
      "Calmar Ratio                                  -3.228457\n",
      "Omega Ratio                                    0.524214\n",
      "Sortino Ratio                               -149.083333\n",
      "dtype: object\n"
     ]
    }
   ],
   "source": [
    "# Portfolio statistics\n",
    "stats = portfolio.stats()\n",
    "print(\"=== Portfolio Performance Statistics ===\")\n",
    "print(stats)"
   ]
  },
  {
   "cell_type": "code",
   "execution_count": 18,
   "id": "f0f3cabd",
   "metadata": {},
   "outputs": [
    {
     "name": "stdout",
     "output_type": "stream",
     "text": [
      "=== Trade Analysis ===\n",
      "Total number of trades: 150\n"
     ]
    },
    {
     "ename": "TypeError",
     "evalue": "unsupported operand type(s) for *: 'method' and 'int'",
     "output_type": "error",
     "traceback": [
      "\u001b[0;31m---------------------------------------------------------------------------\u001b[0m",
      "\u001b[0;31mTypeError\u001b[0m                                 Traceback (most recent call last)",
      "Cell \u001b[0;32mIn[18], line 5\u001b[0m\n\u001b[1;32m      3\u001b[0m \u001b[38;5;28mprint\u001b[39m(\u001b[38;5;124m\"\u001b[39m\u001b[38;5;124m=== Trade Analysis ===\u001b[39m\u001b[38;5;124m\"\u001b[39m)\n\u001b[1;32m      4\u001b[0m \u001b[38;5;28mprint\u001b[39m(\u001b[38;5;124mf\u001b[39m\u001b[38;5;124m\"\u001b[39m\u001b[38;5;124mTotal number of trades: \u001b[39m\u001b[38;5;132;01m{\u001b[39;00mtrades\u001b[38;5;241m.\u001b[39mcount()\u001b[38;5;132;01m}\u001b[39;00m\u001b[38;5;124m\"\u001b[39m)\n\u001b[0;32m----> 5\u001b[0m \u001b[38;5;28mprint\u001b[39m(\u001b[38;5;124mf\u001b[39m\u001b[38;5;124m\"\u001b[39m\u001b[38;5;124mWin rate: \u001b[39m\u001b[38;5;132;01m{\u001b[39;00mtrades\u001b[38;5;241m.\u001b[39mwin_rate\u001b[38;5;250m \u001b[39m\u001b[38;5;241m*\u001b[39m\u001b[38;5;250m \u001b[39m\u001b[38;5;241m100\u001b[39m\u001b[38;5;132;01m:\u001b[39;00m\u001b[38;5;124m.2f\u001b[39m\u001b[38;5;132;01m}\u001b[39;00m\u001b[38;5;124m%\u001b[39m\u001b[38;5;124m\"\u001b[39m)\n\u001b[1;32m      7\u001b[0m \u001b[38;5;66;03m# Get trade returns safely\u001b[39;00m\n\u001b[1;32m      8\u001b[0m trade_returns \u001b[38;5;241m=\u001b[39m trades\u001b[38;5;241m.\u001b[39mreturns\n",
      "\u001b[0;31mTypeError\u001b[0m: unsupported operand type(s) for *: 'method' and 'int'"
     ]
    }
   ],
   "source": [
    "# Trade analysis\n",
    "trades = portfolio.trades\n",
    "print(\"=== Trade Analysis ===\")\n",
    "print(f\"Total number of trades: {trades.count()}\")\n",
    "print(f\"Win rate: {trades.win_rate * 100:.2f}%\")\n",
    "\n",
    "# Get trade returns safely\n",
    "trade_returns = trades.returns\n",
    "if len(trade_returns) > 0:\n",
    "    print(f\"Average trade return: {trade_returns.mean() * 100:.4f}%\")\n",
    "    \n",
    "    # Filter winning and losing trades\n",
    "    winning_trades = trade_returns[trade_returns > 0]\n",
    "    losing_trades = trade_returns[trade_returns < 0]\n",
    "    \n",
    "    if len(winning_trades) > 0:\n",
    "        print(f\"Average winning trade: {winning_trades.mean() * 100:.4f}%\")\n",
    "    else:\n",
    "        print(\"Average winning trade: No winning trades\")\n",
    "        \n",
    "    if len(losing_trades) > 0:\n",
    "        print(f\"Average losing trade: {losing_trades.mean() * 100:.4f}%\")\n",
    "    else:\n",
    "        print(\"Average losing trade: No losing trades\")\n",
    "        \n",
    "    print(f\"Best trade: {trade_returns.max() * 100:.4f}%\")\n",
    "    print(f\"Worst trade: {trade_returns.min() * 100:.4f}%\")\n",
    "else:\n",
    "    print(\"No trade returns available\")\n",
    "\n",
    "if trades.count() > 0:\n",
    "    print(\"\\n=== First 10 Trades ===\")\n",
    "    print(trades.records_readable.head(10))"
   ]
  },
  {
   "cell_type": "code",
   "execution_count": null,
   "id": "bc3fcc5e",
   "metadata": {},
   "outputs": [],
   "source": [
    "# Plotting results\n",
    "fig, axes = plt.subplots(3, 1, figsize=(15, 12))\n",
    "\n",
    "# Plot 1: Price chart with signals\n",
    "axes[0].plot(df.index, df['Close'], label='Close Price', linewidth=1, alpha=0.8)\n",
    "axes[0].plot(df.index, df['Prev_Rolling_High_5'], label='5-Min Rolling High', linestyle='--', alpha=0.7)\n",
    "axes[0].plot(df.index, df['Prev_Rolling_Low_5'], label='5-Min Rolling Low', linestyle='--', alpha=0.7)\n",
    "\n",
    "# Mark buy and sell signals\n",
    "buy_points = df[entries]\n",
    "sell_points = df[exits]\n",
    "\n",
    "if len(buy_points) > 0:\n",
    "    axes[0].scatter(buy_points.index, buy_points['Close'], color='green', marker='^', s=50, label='Buy Signal', alpha=0.8)\n",
    "if len(sell_points) > 0:\n",
    "    axes[0].scatter(sell_points.index, sell_points['Close'], color='red', marker='v', s=50, label='Sell Signal', alpha=0.8)\n",
    "\n",
    "axes[0].set_title('Price Chart with Trading Signals')\n",
    "axes[0].set_ylabel('Price ($)')\n",
    "axes[0].legend()\n",
    "axes[0].grid(True, alpha=0.3)\n",
    "\n",
    "# Plot 2: Portfolio value over time\n",
    "portfolio_value = portfolio.value()\n",
    "axes[1].plot(portfolio_value.index, portfolio_value.values, label='Portfolio Value', color='blue', linewidth=2)\n",
    "axes[1].axhline(y=100000, color='gray', linestyle='--', alpha=0.7, label='Initial Capital')\n",
    "axes[1].set_title('Portfolio Value Over Time')\n",
    "axes[1].set_ylabel('Portfolio Value ($)')\n",
    "axes[1].legend()\n",
    "axes[1].grid(True, alpha=0.3)\n",
    "\n",
    "# Plot 3: Cumulative returns\n",
    "cumulative_returns = portfolio.total_return()\n",
    "axes[2].plot(portfolio_value.index, (portfolio_value / 100000 - 1) * 100, label='Cumulative Return (%)', color='purple', linewidth=2)\n",
    "axes[2].axhline(y=0, color='gray', linestyle='-', alpha=0.7)\n",
    "axes[2].set_title('Cumulative Returns')\n",
    "axes[2].set_ylabel('Return (%)')\n",
    "axes[2].set_xlabel('Date')\n",
    "axes[2].legend()\n",
    "axes[2].grid(True, alpha=0.3)\n",
    "\n",
    "plt.tight_layout()\n",
    "plt.show()\n",
    "\n",
    "print(f\"\\nFinal Portfolio Value: ${portfolio.value().iloc[-1]:,.2f}\")\n",
    "print(f\"Total Return: {portfolio.total_return() * 100:.2f}%\")"
   ]
  },
  {
   "cell_type": "markdown",
   "id": "898f6d1c",
   "metadata": {},
   "source": [
    "## Risk Analysis"
   ]
  },
  {
   "cell_type": "code",
   "execution_count": null,
   "id": "f20aa13a",
   "metadata": {},
   "outputs": [],
   "source": [
    "# Calculate additional risk metrics\n",
    "returns = portfolio.returns()\n",
    "print(\"=== Risk Analysis ===\")\n",
    "print(f\"Volatility (annualized): {returns.std() * np.sqrt(252 * 390) * 100:.2f}%\")  # 252 trading days, 390 minutes per day\n",
    "print(f\"Maximum Drawdown: {portfolio.max_drawdown() * 100:.2f}%\")\n",
    "print(f\"Sharpe Ratio: {portfolio.sharpe_ratio():.2f}\")\n",
    "print(f\"Calmar Ratio: {portfolio.calmar_ratio():.2f}\")\n",
    "\n",
    "# Drawdown analysis\n",
    "drawdowns = portfolio.drawdowns\n",
    "if drawdowns.count() > 0:\n",
    "    print(f\"\\nNumber of drawdown periods: {drawdowns.count()}\")\n",
    "    print(f\"Average drawdown duration: {drawdowns.avg_duration}\")\n",
    "    print(f\"Maximum drawdown duration: {drawdowns.max_duration}\")"
   ]
  },
  {
   "cell_type": "code",
   "execution_count": null,
   "id": "6bb5c681",
   "metadata": {},
   "outputs": [],
   "source": [
    "# Plot drawdown chart\n",
    "plt.figure(figsize=(15, 6))\n",
    "drawdown_series = portfolio.drawdown()\n",
    "plt.fill_between(drawdown_series.index, drawdown_series.values * 100, 0, alpha=0.3, color='red')\n",
    "plt.plot(drawdown_series.index, drawdown_series.values * 100, color='red', linewidth=1)\n",
    "plt.title('Portfolio Drawdowns')\n",
    "plt.ylabel('Drawdown (%)')\n",
    "plt.xlabel('Date')\n",
    "plt.grid(True, alpha=0.3)\n",
    "plt.show()"
   ]
  },
  {
   "cell_type": "markdown",
   "id": "d494b620",
   "metadata": {},
   "source": [
    "## Strategy Optimization and Variations\n",
    "\n",
    "Let's test different lookback periods to see if we can improve performance."
   ]
  },
  {
   "cell_type": "code",
   "execution_count": null,
   "id": "e9e68c7c",
   "metadata": {},
   "outputs": [],
   "source": [
    "# Test different lookback periods\n",
    "lookback_periods_to_test = [3, 5, 7, 10, 15]\n",
    "results = []\n",
    "\n",
    "for lookback in lookback_periods_to_test:\n",
    "    # Calculate rolling high/low for this lookback period\n",
    "    rolling_high = df['High'].rolling(window=lookback, min_periods=lookback).max().shift(1)\n",
    "    rolling_low = df['Low'].rolling(window=lookback, min_periods=lookback).min().shift(1)\n",
    "    \n",
    "    # Generate signals\n",
    "    buy_sig = df['High'] > rolling_high\n",
    "    sell_sig = df['Low'] < rolling_low\n",
    "    \n",
    "    # Create portfolio\n",
    "    try:\n",
    "        pf = vbt.Portfolio.from_signals(\n",
    "            close=close_prices,\n",
    "            entries=buy_sig,\n",
    "            exits=sell_sig | end_of_day_signals,\n",
    "            init_cash=100000,\n",
    "            fees=0.001,\n",
    "            freq='1min'\n",
    "        )\n",
    "        \n",
    "        results.append({\n",
    "            'Lookback': lookback,\n",
    "            'Total_Return': pf.total_return() * 100,\n",
    "            'Sharpe_Ratio': pf.sharpe_ratio(),\n",
    "            'Max_Drawdown': pf.max_drawdown() * 100,\n",
    "            'Total_Trades': pf.trades.count(),\n",
    "            'Win_Rate': pf.trades.win_rate * 100\n",
    "        })\n",
    "    except Exception as e:\n",
    "        print(f\"Error with lookback {lookback}: {e}\")\n",
    "        continue\n",
    "\n",
    "# Create results DataFrame\n",
    "optimization_results = pd.DataFrame(results)\n",
    "print(\"=== Strategy Optimization Results ===\")\n",
    "print(optimization_results.round(2))\n",
    "\n",
    "if len(optimization_results) > 0:\n",
    "    best_lookback = optimization_results.loc[optimization_results['Sharpe_Ratio'].idxmax(), 'Lookback']\n",
    "    print(f\"\\nBest performing lookback period: {best_lookback} minutes\")"
   ]
  },
  {
   "cell_type": "markdown",
   "id": "2a3bd874",
   "metadata": {},
   "source": [
    "## Summary and Conclusions"
   ]
  },
  {
   "cell_type": "code",
   "execution_count": null,
   "id": "44fc225a",
   "metadata": {},
   "outputs": [],
   "source": [
    "print(\"=== TRADING STRATEGY SUMMARY ===\")\n",
    "print(\"Strategy: High/Low Breakout\")\n",
    "print(\"- Buy when price breaks above 5-minute rolling high\")\n",
    "print(\"- Sell when price breaks below 5-minute rolling low\")\n",
    "print(\"- Close all positions at end of day\")\n",
    "print()\n",
    "print(\"Key Performance Metrics:\")\n",
    "print(f\"- Total Return: {portfolio.total_return() * 100:.2f}%\")\n",
    "print(f\"- Sharpe Ratio: {portfolio.sharpe_ratio():.2f}\")\n",
    "print(f\"- Maximum Drawdown: {portfolio.max_drawdown() * 100:.2f}%\")\n",
    "print(f\"- Total Trades: {portfolio.trades.count()}\")\n",
    "print(f\"- Win Rate: {portfolio.trades.win_rate * 100:.2f}%\")\n",
    "print(f\"- Final Portfolio Value: ${portfolio.value().iloc[-1]:,.2f}\")\n",
    "print()\n",
    "print(\"Next Steps:\")\n",
    "print(\"1. Load your actual historical data\")\n",
    "print(\"2. Adjust parameters based on optimization results\")\n",
    "print(\"3. Consider additional filters (volume, volatility, etc.)\")\n",
    "print(\"4. Implement position sizing rules\")\n",
    "print(\"5. Add stop-loss and take-profit levels\")"
   ]
  },
  {
   "cell_type": "markdown",
   "id": "fa96a216",
   "metadata": {},
   "source": [
    "## Data Loading Template\n",
    "\n",
    "To use your actual data, replace the synthetic data generation with:"
   ]
  },
  {
   "cell_type": "code",
   "execution_count": null,
   "id": "20da6d1d",
   "metadata": {},
   "outputs": [],
   "source": [
    "# Template for loading your actual data\n",
    "# Uncomment and modify this section when you have your data file\n",
    "\n",
    "\"\"\"\n",
    "# Load your actual data\n",
    "df_actual = pd.read_csv('your_stock_data.csv')\n",
    "\n",
    "# Convert to proper datetime format\n",
    "df_actual['DateTime'] = pd.to_datetime(df_actual['Date']) + pd.to_timedelta((df_actual['Minute'] - 390), unit='m')\n",
    "df_actual.set_index('DateTime', inplace=True)\n",
    "df_actual.sort_index(inplace=True)\n",
    "\n",
    "# Apply the same strategy logic\n",
    "lookback_periods = 5\n",
    "df_actual['Rolling_High_5'] = df_actual['High'].rolling(window=lookback_periods, min_periods=lookback_periods).max()\n",
    "df_actual['Rolling_Low_5'] = df_actual['Low'].rolling(window=lookback_periods, min_periods=lookback_periods).min()\n",
    "df_actual['Prev_Rolling_High_5'] = df_actual['Rolling_High_5'].shift(1)\n",
    "df_actual['Prev_Rolling_Low_5'] = df_actual['Rolling_Low_5'].shift(1)\n",
    "\n",
    "df_actual['Buy_Signal'] = df_actual['High'] > df_actual['Prev_Rolling_High_5']\n",
    "df_actual['Sell_Signal'] = df_actual['Low'] < df_actual['Prev_Rolling_Low_5']\n",
    "df_actual['End_Of_Day'] = df_actual['Minute'] == 779  # Adjust based on your data\n",
    "\n",
    "# Run portfolio simulation\n",
    "portfolio_actual = vbt.Portfolio.from_signals(\n",
    "    close=df_actual['Close'],\n",
    "    entries=df_actual['Buy_Signal'],\n",
    "    exits=df_actual['Sell_Signal'] | df_actual['End_Of_Day'],\n",
    "    init_cash=100000,\n",
    "    fees=0.001,\n",
    "    freq='1min'\n",
    ")\n",
    "\n",
    "print(portfolio_actual.stats())\n",
    "\"\"\"\n",
    "\n",
    "print(\"Data loading template provided above.\")\n",
    "print(\"Modify the file path and column names to match your actual data.\")"
   ]
  }
 ],
 "metadata": {
  "kernelspec": {
   "display_name": "base",
   "language": "python",
   "name": "python3"
  },
  "language_info": {
   "codemirror_mode": {
    "name": "ipython",
    "version": 3
   },
   "file_extension": ".py",
   "mimetype": "text/x-python",
   "name": "python",
   "nbconvert_exporter": "python",
   "pygments_lexer": "ipython3",
   "version": "3.13.5"
  }
 },
 "nbformat": 4,
 "nbformat_minor": 5
}
